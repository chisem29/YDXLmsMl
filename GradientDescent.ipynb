{
 "cells": [
  {
   "cell_type": "code",
   "execution_count": null,
   "metadata": {},
   "outputs": [],
   "source": [
    "import numpy as np"
   ]
  },
  {
   "cell_type": "code",
   "execution_count": 2,
   "metadata": {},
   "outputs": [
    {
     "data": {
      "text/plain": [
       "88.45"
      ]
     },
     "execution_count": 2,
     "metadata": {},
     "output_type": "execute_result"
    }
   ],
   "source": [
    "39 * (-1.5) ** 2 - 7 * (-0.1) "
   ]
  },
  {
   "cell_type": "code",
   "execution_count": 3,
   "metadata": {},
   "outputs": [
    {
     "data": {
      "text/plain": [
       "10.360000000000001"
      ]
     },
     "execution_count": 3,
     "metadata": {},
     "output_type": "execute_result"
    }
   ],
   "source": [
    "-7 * (-1.5) + 2 * (-0.1) + 6 * (-0.1) ** 2"
   ]
  },
  {
   "cell_type": "code",
   "execution_count": 6,
   "metadata": {},
   "outputs": [
    {
     "data": {
      "text/plain": [
       "-10.345"
      ]
     },
     "execution_count": 6,
     "metadata": {},
     "output_type": "execute_result"
    }
   ],
   "source": [
    "-1.5 - 0.1 * 88.45"
   ]
  },
  {
   "cell_type": "code",
   "execution_count": 7,
   "metadata": {},
   "outputs": [
    {
     "data": {
      "text/plain": [
       "-1.1360000000000001"
      ]
     },
     "execution_count": 7,
     "metadata": {},
     "output_type": "execute_result"
    }
   ],
   "source": [
    "-0.1 - 0.1 * 10.36"
   ]
  },
  {
   "cell_type": "code",
   "execution_count": null,
   "metadata": {},
   "outputs": [
    {
     "name": "stdout",
     "output_type": "stream",
     "text": [
      "[[13.   ]\n",
      " [10.4  ]\n",
      " [ 8.32 ]\n",
      " [ 6.656]\n",
      " [ 5.325]\n",
      " [ 4.26 ]\n",
      " [ 3.408]\n",
      " [ 2.726]\n",
      " [ 2.181]\n",
      " [ 1.745]\n",
      " [ 1.396]\n",
      " [ 1.117]\n",
      " [ 0.893]\n",
      " [ 0.715]\n",
      " [ 0.572]\n",
      " [ 0.457]\n",
      " [ 0.366]\n",
      " [ 0.293]\n",
      " [ 0.234]\n",
      " [ 0.187]\n",
      " [ 0.15 ]\n",
      " [ 0.12 ]\n",
      " [ 0.096]\n",
      " [ 0.077]\n",
      " [ 0.061]\n",
      " [ 0.049]\n",
      " [ 0.039]\n",
      " [ 0.031]\n",
      " [ 0.025]\n",
      " [ 0.02 ]\n",
      " [ 0.016]\n",
      " [ 0.013]\n",
      " [ 0.01 ]\n",
      " [ 0.008]\n",
      " [ 0.007]\n",
      " [ 0.005]\n",
      " [ 0.004]\n",
      " [ 0.003]\n",
      " [ 0.003]\n",
      " [ 0.002]\n",
      " [ 0.002]\n",
      " [ 0.001]\n",
      " [ 0.001]]\n"
     ]
    }
   ],
   "source": [
    "\n",
    "def gradient_descent(func, start_point, gamma, epsilon, steps):\n",
    "    \n",
    "    history = [start_point]\n",
    "\n",
    "    def numdf(func, x):\n",
    "        dx = 1e-9\n",
    "        return (func(x + dx) - func(x)) / (dx)\n",
    "\n",
    "    if steps == 0:\n",
    "        x = start_point\n",
    "        while True:\n",
    "            gradient = numdf(func, x)\n",
    "            x_new = x - gamma * gradient\n",
    "            history.append(x_new)\n",
    "            if np.abs(func(x_new) - func(x)) < epsilon:\n",
    "                break\n",
    "            x = x_new\n",
    "    else:\n",
    "        x = start_point\n",
    "        for _ in range(steps):\n",
    "            gradient = numdf(func, x)\n",
    "            x_new = x - gamma * gradient\n",
    "            history.append(x_new)\n",
    "            x = x_new\n",
    "\n",
    "    return np.array([np.array([x]) for x in history]).round(3)\n",
    "\n",
    "# Пример использования\n",
    "def example_func(x):\n",
    "    return x**2\n",
    "\n",
    "start_point = 13\n",
    "gamma = 0.1\n",
    "epsilon = 1e-6\n",
    "steps = 0  # или задайте количество шагов\n",
    "\n",
    "history = gradient_descent(example_func, start_point, gamma, epsilon, steps)\n",
    "print(history)\n"
   ]
  },
  {
   "cell_type": "code",
   "execution_count": null,
   "metadata": {},
   "outputs": [],
   "source": []
  }
 ],
 "metadata": {
  "kernelspec": {
   "display_name": "Python 3",
   "language": "python",
   "name": "python3"
  },
  "language_info": {
   "codemirror_mode": {
    "name": "ipython",
    "version": 3
   },
   "file_extension": ".py",
   "mimetype": "text/x-python",
   "name": "python",
   "nbconvert_exporter": "python",
   "pygments_lexer": "ipython3",
   "version": "3.13.1"
  }
 },
 "nbformat": 4,
 "nbformat_minor": 2
}
