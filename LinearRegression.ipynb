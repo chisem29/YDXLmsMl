{
 "cells": [
  {
   "cell_type": "code",
   "execution_count": 1,
   "metadata": {},
   "outputs": [],
   "source": [
    "import numpy as np\n",
    "from sklearn.metrics import mean_squared_error"
   ]
  },
  {
   "cell_type": "code",
   "execution_count": null,
   "metadata": {},
   "outputs": [
    {
     "data": {
      "text/plain": [
       "(array([ 2,  2,  5, -3,  0,  3]), array([  2,   1,   9, -10,  -5,   3]))"
      ]
     },
     "execution_count": 7,
     "metadata": {},
     "output_type": "execute_result"
    }
   ],
   "source": [
    "data = np.array([(2,2),(2,1),(5,9),(-3,-10),(0,-5),(3,3)])\n",
    "\n",
    "X = data[:, 0]\n",
    "Y = data[:, 1]"
   ]
  },
  {
   "cell_type": "code",
   "execution_count": 9,
   "metadata": {},
   "outputs": [
    {
     "data": {
      "text/plain": [
       "19.0"
      ]
     },
     "execution_count": 9,
     "metadata": {},
     "output_type": "execute_result"
    }
   ],
   "source": [
    "mean_squared_error(Y, 3 * X - 5) * 6"
   ]
  },
  {
   "cell_type": "code",
   "execution_count": 11,
   "metadata": {},
   "outputs": [],
   "source": [
    "X = np.c_[np.ones((5, 1)), np.array([[2, 0, 2, 2], [5, 3, 3, 5], [0, 3, 1, 2], [2, 8, 7, 6], [7, 1, 3, 2]])]\n",
    "Y = np.array([1, 2, 3, 5, 8])\n",
    "ws = np.array([-1,1,1,-1,1])"
   ]
  },
  {
   "cell_type": "code",
   "execution_count": 13,
   "metadata": {},
   "outputs": [
    {
     "data": {
      "text/plain": [
       "62.0"
      ]
     },
     "execution_count": 13,
     "metadata": {},
     "output_type": "execute_result"
    }
   ],
   "source": [
    "mean_squared_error(Y, X @ ws) * 5"
   ]
  },
  {
   "cell_type": "code",
   "execution_count": 19,
   "metadata": {},
   "outputs": [],
   "source": [
    "X = np.c_[np.ones((5, 1)), np.array([[1, 9, 6, 3], [3, 1, 9, 6], [6, 3, 1, 9], [9, 6, 3, 1], [1, 0, 1, 0]])]\n",
    "Y = np.array([2, 1, 3, -1, 1])"
   ]
  },
  {
   "cell_type": "code",
   "execution_count": 20,
   "metadata": {},
   "outputs": [
    {
     "data": {
      "text/plain": [
       "array([ 1.53, -0.32,  0.1 , -0.21,  0.37])"
      ]
     },
     "execution_count": 20,
     "metadata": {},
     "output_type": "execute_result"
    }
   ],
   "source": [
    "np.round(np.linalg.inv(X.T @ X) @ X.T @ Y, 2)"
   ]
  },
  {
   "cell_type": "code",
   "execution_count": 21,
   "metadata": {},
   "outputs": [
    {
     "data": {
      "text/plain": [
       "array([ 0.66, -0.25,  0.13, -0.14,  0.39])"
      ]
     },
     "execution_count": 21,
     "metadata": {},
     "output_type": "execute_result"
    }
   ],
   "source": [
    "np.round(np.linalg.inv(X.T @ X + 1 * np.identity(5)) @ X.T @ Y, 2)"
   ]
  },
  {
   "cell_type": "code",
   "execution_count": 29,
   "metadata": {},
   "outputs": [
    {
     "data": {
      "text/plain": [
       "array([[0, 0, 1],\n",
       "       [0, 1, 0],\n",
       "       [0, 1, 0],\n",
       "       [1, 0, 0]])"
      ]
     },
     "execution_count": 29,
     "metadata": {},
     "output_type": "execute_result"
    }
   ],
   "source": [
    "x = np.array([3, 2, 2, 1])\n",
    "\n",
    "def onehot_encoding(x) :\n",
    "\n",
    "    res = []\n",
    "    hashq = {}\n",
    "\n",
    "    for i, el in enumerate(sorted(set(x.tolist()))) :\n",
    "        if el not in hashq :\n",
    "            hashq[el] = i\n",
    "\n",
    "    for el in x.tolist() :\n",
    "        res.append(np.concatenate([np.zeros(hashq[el], dtype=int), np.array([1], dtype=int), np.zeros(len(set(x)) - 1 - hashq[el], dtype=int)]))\n",
    "    \n",
    "    return np.asarray(res)\n",
    "\n",
    "onehot_encoding(x)"
   ]
  },
  {
   "cell_type": "code",
   "execution_count": null,
   "metadata": {},
   "outputs": [
    {
     "data": {
      "text/plain": [
       "array([[1.]])"
      ]
     },
     "execution_count": 35,
     "metadata": {},
     "output_type": "execute_result"
    }
   ],
   "source": [
    "x = np.array([[1]])\n",
    "\n",
    "def minmax_scale(x) :\n",
    "    if x.shape[0] == 1 :\n",
    "        return np.zeros((1, x.shape[1]))\n",
    "    return (x - x.min(axis=0)) / (x.max(axis=0) - x.min(axis=0))\n",
    "\n",
    "minmax_scale(x)"
   ]
  }
 ],
 "metadata": {
  "kernelspec": {
   "display_name": "Python 3",
   "language": "python",
   "name": "python3"
  },
  "language_info": {
   "codemirror_mode": {
    "name": "ipython",
    "version": 3
   },
   "file_extension": ".py",
   "mimetype": "text/x-python",
   "name": "python",
   "nbconvert_exporter": "python",
   "pygments_lexer": "ipython3",
   "version": "3.13.1"
  }
 },
 "nbformat": 4,
 "nbformat_minor": 2
}
